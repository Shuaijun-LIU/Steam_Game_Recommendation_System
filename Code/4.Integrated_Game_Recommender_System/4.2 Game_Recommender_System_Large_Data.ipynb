{
 "cells": [
  {
   "cell_type": "markdown",
   "source": [
    "Ultimately, we speak the results of the matrix decomposition algorithm read in and then build a Steam game recommendation system based on user similarity. This part is summarized as follows:\n",
    "\n",
    "1. **Data loading**: uses `joblib` library to load preprocessed data, including game name to index mapping, index to game name mapping, user purchase records, user game duration, etc.\n",
    "\n",
    "2. **UserSimilarity Calculation**: `UserSimilarity` function is defined to calculate the similarity between users. It calculates the similarity by comparing the overlap between a user's favorite games and the games purchased by other users.\n",
    "\n",
    "3. **GUI interface design**: a graphical user interface (GUI) was created using the `PyQt5` library, which includes 5 drop-down boxes for selecting the user's favorite game, and 5 buttons for entering the game duration.\n",
    "\n",
    "4. **Recommendation Processing**: The `Recommendation` class is defined, which contains methods for initializing the GUI, initializing the drop-down boxes, the dialog box for entering the game duration, and the recommendation processing. After the user clicks the \"Start Recommendation\" button, the recommendation processing will be triggered, firstly it will check whether the user has entered all the data, then it will calculate the recommendation result in the background, and finally it will display the recommendation result dialog.\n",
    "\n",
    "5. **Recommendation Result Display**: The recommendation result is displayed to the user in the form of a message box, which shows the name of the game recommended by the system.\n"
   ],
   "metadata": {
    "collapsed": false
   },
   "id": "9fd85c6f599e13c9"
  },
  {
   "cell_type": "code",
   "execution_count": 1,
   "outputs": [],
   "source": [
    "import joblib\n",
    "import numpy as np\n",
    "import pandas as pd\n",
    "import math\n",
    "import sys\n",
    "from PyQt5.QtWidgets import *\n",
    "from PyQt5.QtGui import *\n",
    "from PyQt5.QtCore import *\n"
   ],
   "metadata": {
    "collapsed": false,
    "ExecuteTime": {
     "end_time": "2024-04-22T15:03:25.802025Z",
     "start_time": "2024-04-22T15:03:24.968107Z"
    }
   },
   "id": "d40d18f3883180f6"
  },
  {
   "cell_type": "code",
   "execution_count": 2,
   "outputs": [],
   "source": [
    "'''Data loading'''\n",
    "\n",
    "# Reading data\n",
    "game2idx = joblib.load('/Users/a1234/Desktop/workspace/Steam_Recommendation_System_777_tp/Processed_Data/model_pkl_large_dataset/game2idx.pkl')\n",
    "idx2game = joblib.load('/Users/a1234/Desktop/workspace/Steam_Recommendation_System_777_tp/Processed_Data/model_pkl_large_dataset/idx2game.pkl')\n",
    "rec = joblib.load('/Users/a1234/Desktop/workspace/Steam_Recommendation_System_777_tp/Processed_Data/model_pkl_large_dataset/rec.pkl')\n",
    "hours = joblib.load('/Users/a1234/Desktop/workspace/Steam_Recommendation_System_777_tp/Processed_Data/model_pkl_large_dataset/hours.pkl')\n",
    "buy = joblib.load('/Users/a1234/Desktop/workspace/Steam_Recommendation_System_777_tp/Processed_Data/model_pkl_large_dataset/buy.pkl')\n",
    "users = joblib.load('/Users/a1234/Desktop/workspace/Steam_Recommendation_System_777_tp/Processed_Data/model_pkl_large_dataset/buyers.pkl')\n",
    "\n",
    "# List of game names\n",
    "gamelist = list(game2idx)\n",
    "\n",
    "# Number of games\n",
    "n_game = len(gamelist)\n",
    "\n",
    "# Passing dictionary\n",
    "gamedict = {1:\"NULL\", 2:\"NULL\", 3:\"NULL\", 4:\"NULL\", 5:\"NULL\"}\n",
    "timedict = {1:\"NULL\", 2:\"NULL\", 3:\"NULL\", 4:\"NULL\", 5:\"NULL\"}\n",
    "idxdict = {1:\"NULL\", 2:\"NULL\", 3:\"NULL\", 4:\"NULL\", 5:\"NULL\"}\n",
    "\n",
    "# The following two are to be passed\n",
    "usertime = []\n",
    "useridx = []\n",
    "\n",
    "# Recommended games to return\n",
    "recgame = []"
   ],
   "metadata": {
    "collapsed": false,
    "ExecuteTime": {
     "end_time": "2024-04-22T15:03:32.001220Z",
     "start_time": "2024-04-22T15:03:30.532819Z"
    }
   },
   "id": "9d0e26b00e5c02d1"
  },
  {
   "cell_type": "code",
   "execution_count": 3,
   "outputs": [],
   "source": [
    "'''UserSimilarity Calculation'''\n",
    "\n",
    "# User Similarity Recommendation\n",
    "def UserSimilarity(games, game_hours):\n",
    "    similarity = np.zeros(len(users))  # User similarity matrix\n",
    "    for i in range(len(users)):\n",
    "        # Calculate the overlap between the games input by the user and games purchased by each user in the dataset\n",
    "        coincidence = 0  # Overlap\n",
    "        positions = []  # Positions of overlapping games in 'games'\n",
    "        for ii in range(len(games)):\n",
    "            if games[ii] in np.where(buy[users[i], :] == 1)[0]:\n",
    "                coincidence += 1\n",
    "                positions.append(ii)\n",
    "        if coincidence == 0:\n",
    "            continue\n",
    "        simi = []\n",
    "        for position in positions:\n",
    "            game = games[position]\n",
    "            hour = abs(game_hours[position] - hours[users[i], game])\n",
    "            simi.append(math.exp(-hour))\n",
    "        similarity[i] = sum(simi) / coincidence\n",
    "    # Multiply similarity with each row of the player-game matrix\n",
    "    for i in range(len(users)):\n",
    "        user = users[i]\n",
    "        rec[user] = rec[user] * similarity[i]\n",
    "\n",
    "    new_rec = np.zeros(len(rec[0]))  # 1*n_games matrix\n",
    "    for i in range(len(new_rec)):\n",
    "        for user in users:\n",
    "            new_rec[i] += rec[user][int(i)]\n",
    "    return new_rec"
   ],
   "metadata": {
    "collapsed": false,
    "ExecuteTime": {
     "end_time": "2024-04-22T15:03:33.724628Z",
     "start_time": "2024-04-22T15:03:33.722762Z"
    }
   },
   "id": "540b1eda29148b2"
  },
  {
   "cell_type": "code",
   "execution_count": 4,
   "outputs": [],
   "source": [
    "'''GUI interface design and Recommendation Processing'''\n",
    "class Recommendation(QWidget):\n",
    "    def __init__(self):\n",
    "        super().__init__()\n",
    "        self.initUI()\n",
    "\n",
    "    def initUI(self):\n",
    "        self.resize(600, 700)\n",
    "        self.setWindowTitle('Steam Game Recommendation (for CS777 Team Project 2024)')\n",
    "        self.setStyleSheet(\"QWidget { background-color: #333; color: #EEE; font-size: 14px; }\"\n",
    "                           \"QPushButton { background-color: #556; border-radius: 5px; }\"\n",
    "                           \"QPushButton:hover { background-color: #779; }\"\n",
    "                           \"QLabel { font-weight: bold; }\"\n",
    "                           \"QComboBox, QLineEdit { background-color: #444; border-radius: 5px; }\"\n",
    "                           \"QMessageBox { background-color: #555; }\")\n",
    "\n",
    "        mainLayout = QVBoxLayout(self)\n",
    "\n",
    "        self.comboBoxes = []\n",
    "        self.timeEdits = []  # List to hold time labels\n",
    "        self.buttons = []\n",
    "\n",
    "        for i in range(5):\n",
    "            rowLayout = QHBoxLayout()\n",
    "\n",
    "            label = QLabel(f'Select Your Past Favorite Game {i+1}:')\n",
    "            comboBox = QComboBox(minimumWidth=200)\n",
    "            comboBox.setEditable(True)\n",
    "            self.comboBoxes.append(comboBox)\n",
    "            timeEdit = QLabel(\"No Time Set\")  # Initially no time is set\n",
    "            timeEdit.setStyleSheet(\"color: #AAA;\")  # Set lighter color for empty time\n",
    "            self.timeEdits.append(timeEdit)\n",
    "            button = QPushButton('Enter Game Time (Hours)')\n",
    "            self.buttons.append(button)\n",
    "\n",
    "            rowLayout.addWidget(label)\n",
    "            rowLayout.addWidget(comboBox)\n",
    "            rowLayout.addWidget(timeEdit)  # Add the time label to the layout\n",
    "            rowLayout.addWidget(button)\n",
    "            mainLayout.addLayout(rowLayout)\n",
    "\n",
    "        self.bt = QPushButton('Start Recommendation')\n",
    "        self.bt.clicked.connect(self.recommend)\n",
    "        mainLayout.addWidget(self.bt)\n",
    "\n",
    "        self.init_combobox()\n",
    "\n",
    "        for i, button in enumerate(self.buttons):\n",
    "            button.clicked.connect(lambda _, x=i: self.timeDialog(x))  # Pass the index x using lambda\n",
    "\n",
    "    def init_combobox(self):\n",
    "        for comboBox in self.comboBoxes:\n",
    "            for game in gamelist:\n",
    "                comboBox.addItem(game)\n",
    "            comboBox.setCurrentIndex(-1)\n",
    "            completer = QCompleter(gamelist, self)\n",
    "            completer.setFilterMode(Qt.MatchContains)\n",
    "            completer.setCompletionMode(QCompleter.PopupCompletion)\n",
    "            comboBox.setCompleter(completer)\n",
    "\n",
    "    def timeDialog(self, index):\n",
    "        comboBox = self.comboBoxes[index]\n",
    "        gameName = comboBox.currentText()\n",
    "        if gameName:\n",
    "            gameID = game2idx.get(gameName, None)\n",
    "            if gameID is not None:\n",
    "                gamedict[index + 1] = gameName\n",
    "                idxdict[index + 1] = gameID\n",
    "                text, ok = QInputDialog.getDouble(self, 'Game Time (Hours)', 'Enter game time (Hours):', min=0.1)\n",
    "                if ok and text:\n",
    "                    timedict[index + 1] = text\n",
    "                    self.timeEdits[index].setText(f\"{text} Hours\")  # Update the time label\n",
    "                elif not ok:\n",
    "                    QMessageBox.information(self, 'Note', 'You canceled the input.', QMessageBox.Close)\n",
    "            else:\n",
    "                QMessageBox.information(self, 'Error', 'Please enter a correct game name first!', QMessageBox.Close)\n",
    "        else:\n",
    "            QMessageBox.information(self, 'Error', 'Please select a game first!', QMessageBox.Close)\n",
    "\n",
    "    def recommend(self):\n",
    "        # Check for unwritten data\n",
    "        c = 0\n",
    "        for i in range(1, 6):\n",
    "            if gamedict[i] == \"NULL\":\n",
    "                c += 1\n",
    "            if idxdict[i] == \"NULL\":\n",
    "                c += 1\n",
    "            if timedict[i] == \"NULL\":\n",
    "                c += 1\n",
    "\n",
    "        # When all data is written\n",
    "        if c == 0:\n",
    "            # Show waiting message\n",
    "            self.waitingMessage = QMessageBox()\n",
    "            self.waitingMessage.setWindowTitle(\"Processing\")\n",
    "            self.waitingMessage.setText(\"Calculating recommendations. Please wait...\")\n",
    "            self.waitingMessage.setStandardButtons(QMessageBox.NoButton)\n",
    "            self.waitingMessage.open()  # Non-modal dialog, allows processing to continue\n",
    "\n",
    "            # Convert the dictionary to a list\n",
    "            usertime = list(timedict.values())\n",
    "            useridx = list(idxdict.values())\n",
    "\n",
    "            # Process in the background and then show the result\n",
    "            QTimer.singleShot(100, lambda: self.processRecommendations(useridx, usertime))  # Adjust the time as needed\n",
    "        else:\n",
    "            reply = QMessageBox.information(self, 'Error', 'Please enter all data!', QMessageBox.Close)\n",
    "\n",
    "    def processRecommendations(self, useridx, usertime):\n",
    "        # Call the model\n",
    "        allrecidx = UserSimilarity(useridx, usertime)\n",
    "        # Sort the data in descending order\n",
    "        rr = np.argsort(-allrecidx)\n",
    "        # Get the top five game ids\n",
    "        top_k = rr[:5]\n",
    "        recgame.clear()\n",
    "        for i in top_k:\n",
    "            recgame.append(idx2game[i])\n",
    "        # Convert the array to a string and output it\n",
    "        reclist = \"\\n\".join(recgame)  # Use newline to separate each game name\n",
    "        # Close the waiting message and show results\n",
    "        self.waitingMessage.close()\n",
    "        QMessageBox.information(self, 'Recommended Games', f'Games recommended to you are:\\n{reclist}',\n",
    "                                QMessageBox.Close)"
   ],
   "metadata": {
    "collapsed": false,
    "ExecuteTime": {
     "end_time": "2024-04-22T15:03:36.468895Z",
     "start_time": "2024-04-22T15:03:36.466813Z"
    }
   },
   "id": "aa207dbc1cf0f6d8"
  },
  {
   "cell_type": "code",
   "execution_count": null,
   "outputs": [
    {
     "name": "stderr",
     "output_type": "stream",
     "text": [
      "2024-04-22 11:03:46.536 Python[33083:2763037] WARNING: Secure coding is not enabled for restorable state! Enable secure coding by implementing NSApplicationDelegate.applicationSupportsSecureRestorableState: and returning YES.\n"
     ]
    }
   ],
   "source": [
    "'''Recommendation Result Display'''\n",
    "# Main function\n",
    "if __name__ == \"__main__\":\n",
    "    app = QApplication(sys.argv)\n",
    "    w = Recommendation()\n",
    "    w.show()\n",
    "    # app.exec_() starts the event loop, which returns a status code when the window is closed\n",
    "    retval = app.exec_()\n",
    "    # sys.exit(retval) passes the status code to sys.exit, which triggers a SystemExit exception\n",
    "    # IPython catches this exception and does not throw an error, just prompts how to exit\n",
    "    sys.exit(retval)\n"
   ],
   "metadata": {
    "collapsed": false,
    "is_executing": true,
    "ExecuteTime": {
     "start_time": "2024-04-22T15:03:40.241327Z"
    }
   },
   "id": "1f23e7c3adaa5b46"
  }
 ],
 "metadata": {
  "kernelspec": {
   "display_name": "Python 3",
   "language": "python",
   "name": "python3"
  },
  "language_info": {
   "codemirror_mode": {
    "name": "ipython",
    "version": 2
   },
   "file_extension": ".py",
   "mimetype": "text/x-python",
   "name": "python",
   "nbconvert_exporter": "python",
   "pygments_lexer": "ipython2",
   "version": "2.7.6"
  }
 },
 "nbformat": 4,
 "nbformat_minor": 5
}
