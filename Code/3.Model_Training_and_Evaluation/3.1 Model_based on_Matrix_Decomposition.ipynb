{
 "cells": [
  {
   "cell_type": "markdown",
   "source": [
    "In this section, we build the Steam game recommendation system based on *TensorFlow's matrix decomposition algorithm*. Here are its main steps and methods:\n",
    "\n",
    "1. **Data loading and preprocessing**:\n",
    "   - Load data in JSON format using Pandas, clean and process the data.\n",
    "   - Convert user IDs and game names to serialized IDs and save them as dictionaries.\n",
    "\n",
    "2. **Construct sparse matrices**:\n",
    "   - Create a user-game purchase matrix and a user-game play length matrix.\n",
    "   - Filter the purchasers based on the number of games purchased by users and randomly divide the training set, validation set and test set.\n",
    "\n",
    "3. **Model building**:\n",
    "   - A recommendation model based on matrix decomposition is built using TensorFlow.\n",
    "   - The model uses a matrix of hidden features of users and games, and considers the bias terms of users and games.\n",
    "   - A confidence parameter is introduced to adjust the user's preference based on the game duration.\n",
    "\n",
    "4. **Model Training and Optimization**:\n",
    "   - The Adagrad optimizer is used to optimize the model parameters by minimizing the loss function.\n",
    "   - During the training process, the accuracy of the model on the training and validation sets is monitored and the loss values are output.\n",
    "\n",
    "5. **Evaluate the model**:\n",
    "   - Evaluate the accuracy of the model using the validation set and adjust the hyperparameters to improve the model performance.\n",
    "   - Finally evaluate the model performance on the test set.\n",
    "\n",
    "6. **Recommended Games**:\n",
    "   - Generate a list of recommended games for a specified user based on the trained model.\n",
    "   - Compare the recommended games with the games actually purchased by the user and calculate the recommendation accuracy. 7.\n",
    "\n",
    "7. **Result visualization**:\n",
    "   - Using Matplotlib, we plotted the change curves of loss value and accuracy rate during the training process."
   ],
   "metadata": {
    "collapsed": false
   },
   "id": "9fd85c6f599e13c9"
  },
  {
   "cell_type": "code",
   "execution_count": 2,
   "outputs": [
    {
     "name": "stdout",
     "output_type": "stream",
     "text": [
      "WARNING:tensorflow:From /Library/Frameworks/Python.framework/Versions/3.12/lib/python3.12/site-packages/tensorflow/python/compat/v2_compat.py:98: disable_resource_variables (from tensorflow.python.ops.resource_variables_toggle) is deprecated and will be removed in a future version.\n",
      "Instructions for updating:\n",
      "non-resource variables are not supported in the long term\n"
     ]
    }
   ],
   "source": [
    "import numpy as np\n",
    "import tensorflow.compat.v1 as tf\n",
    "tf.disable_v2_behavior()\n",
    "import seaborn as sns\n",
    "import random\n",
    "from collections import Counter\n",
    "from sklearn.metrics import roc_curve, auc, average_precision_score\n",
    "import joblib\n",
    "import os\n",
    "import pandas as pd\n",
    "import matplotlib.pyplot as plt"
   ],
   "metadata": {
    "collapsed": false,
    "ExecuteTime": {
     "end_time": "2024-04-23T23:27:30.834235Z",
     "start_time": "2024-04-23T23:27:28.393806Z"
    }
   },
   "id": "105b49b386c49419"
  },
  {
   "cell_type": "code",
   "execution_count": 3,
   "outputs": [
    {
     "data": {
      "text/plain": "             steamid  appid                     name  playtime_forever\n0  76561197975693312    220              Half-Life 2               926\n1  76561197975693312    240   Counter-Strike: Source               255\n2  76561197975693312    320  Half-Life 2: Deathmatch                 0\n3  76561197975693312    340  Half-Life 2: Lost Coast                10\n4  76561197975693312   2400                 The Ship               124",
      "text/html": "<div>\n<style scoped>\n    .dataframe tbody tr th:only-of-type {\n        vertical-align: middle;\n    }\n\n    .dataframe tbody tr th {\n        vertical-align: top;\n    }\n\n    .dataframe thead th {\n        text-align: right;\n    }\n</style>\n<table border=\"1\" class=\"dataframe\">\n  <thead>\n    <tr style=\"text-align: right;\">\n      <th></th>\n      <th>steamid</th>\n      <th>appid</th>\n      <th>name</th>\n      <th>playtime_forever</th>\n    </tr>\n  </thead>\n  <tbody>\n    <tr>\n      <th>0</th>\n      <td>76561197975693312</td>\n      <td>220</td>\n      <td>Half-Life 2</td>\n      <td>926</td>\n    </tr>\n    <tr>\n      <th>1</th>\n      <td>76561197975693312</td>\n      <td>240</td>\n      <td>Counter-Strike: Source</td>\n      <td>255</td>\n    </tr>\n    <tr>\n      <th>2</th>\n      <td>76561197975693312</td>\n      <td>320</td>\n      <td>Half-Life 2: Deathmatch</td>\n      <td>0</td>\n    </tr>\n    <tr>\n      <th>3</th>\n      <td>76561197975693312</td>\n      <td>340</td>\n      <td>Half-Life 2: Lost Coast</td>\n      <td>10</td>\n    </tr>\n    <tr>\n      <th>4</th>\n      <td>76561197975693312</td>\n      <td>2400</td>\n      <td>The Ship</td>\n      <td>124</td>\n    </tr>\n  </tbody>\n</table>\n</div>"
     },
     "execution_count": 3,
     "metadata": {},
     "output_type": "execute_result"
    }
   ],
   "source": [
    "# Directory path\n",
    "directory_path = \"/Users/a1234/Desktop/workspace/Steam_Recommendation_System_777_tp/Processed_Data/games_clean.json\"\n",
    "\n",
    "# List all files in the given directory\n",
    "files = [f for f in os.listdir(directory_path) if f.endswith('.json') and f.startswith('part')]\n",
    "\n",
    "# Create an empty DataFrame\n",
    "df = pd.DataFrame()\n",
    "\n",
    "# Read each file and append it to the DataFrame\n",
    "for file in files:\n",
    "    file_path = os.path.join(directory_path, file)\n",
    "    file_df = pd.read_json(file_path, lines=True)\n",
    "    df = pd.concat([df, file_df], ignore_index=True)\n",
    "    \n",
    "# # Read each file and append it to the DataFrame, filtering out samples with playtime_forever equal to 0\n",
    "# for file in files:\n",
    "#     file_path = os.path.join(directory_path, file)\n",
    "#     file_df = pd.read_json(file_path, lines=True)\n",
    "#     # Filter out samples with playtime_forever equal to 0\n",
    "#     file_df = file_df[file_df['playtime_forever'] != 0]\n",
    "#     df = pd.concat([df, file_df], ignore_index=True)\n",
    "#     \n",
    "df.head()\n"
   ],
   "metadata": {
    "collapsed": false,
    "ExecuteTime": {
     "end_time": "2024-04-23T23:27:43.625522Z",
     "start_time": "2024-04-23T23:27:33.633665Z"
    }
   },
   "id": "4463f9c76a35dfbf"
  },
  {
   "cell_type": "code",
   "execution_count": 4,
   "outputs": [
    {
     "data": {
      "text/plain": "UserID          5270565\nGame            5270565\nHours_Played    5270565\ndtype: int64"
     },
     "execution_count": 4,
     "metadata": {},
     "output_type": "execute_result"
    }
   ],
   "source": [
    "# Data processing\n",
    "df['UserID'] = df['steamid'].astype(int)\n",
    "df['Game'] = df['name'].astype(str)\n",
    "df['Hours_Played'] = df['playtime_forever'].astype('float32')\n",
    "\n",
    "# Sorting\n",
    "df.UserID = df.UserID.astype('int')\n",
    "df = df.sort_values(['UserID', 'Game', 'Hours_Played'])\n",
    "\n",
    "# Organize into a new DataFrame clean_df\n",
    "clean_df = df.drop_duplicates(['UserID', 'Game'], keep='last').drop(['steamid', 'name', 'playtime_forever', 'appid'], axis=1)\n",
    "clean_df.count()\n"
   ],
   "metadata": {
    "collapsed": false,
    "ExecuteTime": {
     "end_time": "2024-04-23T23:27:51.670148Z",
     "start_time": "2024-04-23T23:27:48.240023Z"
    }
   },
   "id": "9b180c14dd1f4d47"
  },
  {
   "cell_type": "code",
   "execution_count": 5,
   "outputs": [
    {
     "name": "stdout",
     "output_type": "stream",
     "text": [
      "There are 4712 users and 38480 games in the user-game dataset.\n"
     ]
    }
   ],
   "source": [
    "n_users = len(clean_df.UserID.unique())\n",
    "n_games = len(clean_df.Game.unique())\n",
    "print('There are {0} users and {1} games in the user-game dataset.'.format(n_users, n_games))\n"
   ],
   "metadata": {
    "collapsed": false,
    "ExecuteTime": {
     "end_time": "2024-04-23T23:27:54.022452Z",
     "start_time": "2024-04-23T23:27:53.498612Z"
    }
   },
   "id": "528c0d207536ffcc"
  },
  {
   "cell_type": "code",
   "execution_count": 6,
   "outputs": [
    {
     "name": "stdout",
     "output_type": "stream",
     "text": [
      "The percentage of valid data in the user-game matrix is: 2.91%\n"
     ]
    }
   ],
   "source": [
    "# Calculate the sparsity of the matrix\n",
    "sparsity = clean_df.shape[0] / float(n_users * n_games)\n",
    "print('The percentage of valid data in the user-game matrix is: {:.2%}'.format(sparsity))\n"
   ],
   "metadata": {
    "collapsed": false,
    "ExecuteTime": {
     "end_time": "2024-04-23T23:27:56.004774Z",
     "start_time": "2024-04-23T23:27:55.999767Z"
    }
   },
   "id": "7a9f8ded49992c57"
  },
  {
   "cell_type": "code",
   "execution_count": 7,
   "outputs": [],
   "source": [
    "# Establish serialized IDs for convenience\n",
    "\n",
    "# Dictionary mapping user IDs to serialized user IDs\n",
    "user2idx = {user: i for i, user in enumerate(clean_df.UserID.unique())}\n",
    "# Dictionary mapping serialized user IDs to user IDs\n",
    "idx2user = {i: user for user, i in user2idx.items()}\n",
    "\n",
    "# Dictionary mapping game names to serialized game IDs\n",
    "game2idx = {game: i for i, game in enumerate(clean_df.Game.unique())}\n",
    "# Dictionary mapping serialized game IDs to game names\n",
    "idx2game = {i: game for game, i in game2idx.items()}\n",
    "\n",
    "# Save the dictionaries for PyQt5 usage\n",
    "# joblib.dump(idx2game, '/Users/a1234/Desktop/workspace/Steam_Recommendation_System_777_tp/Processed_Data/idx2game.pkl')\n",
    "# joblib.dump(game2idx, '/Users/a1234/Desktop/workspace/Steam_Recommendation_System_777_tp/Processed_Data/game2idx.pkl')\n"
   ],
   "metadata": {
    "collapsed": false,
    "ExecuteTime": {
     "end_time": "2024-04-23T23:27:59.696688Z",
     "start_time": "2024-04-23T23:27:59.097465Z"
    }
   },
   "id": "91bef05fd392c336"
  },
  {
   "cell_type": "code",
   "execution_count": 8,
   "outputs": [],
   "source": [
    "# Serialized user ID - serialized game ID - game duration\n",
    "user_idx = clean_df['UserID'].apply(lambda x: user2idx[x]).values\n",
    "game_idx = clean_df['gamesIdx'] = clean_df['Game'].apply(lambda x: game2idx[x]).values\n",
    "hours = clean_df['Hours_Played'].values\n",
    "\n",
    "# Save the game duration matrix\n",
    "hours_save = np.zeros(shape=(n_users, n_games))\n",
    "for i in range(len(user_idx)):\n",
    "    hours_save[user_idx[i], game_idx[i]] = hours[i]\n",
    "    \n",
    "# joblib.dump(hours_save, '/Users/a1234/Desktop/workspace/Steam_Recommendation_System_777_tp/Processed_Data/hours.pkl')\n"
   ],
   "metadata": {
    "collapsed": false,
    "ExecuteTime": {
     "end_time": "2024-04-23T23:28:05.591853Z",
     "start_time": "2024-04-23T23:28:01.653011Z"
    }
   },
   "id": "1c51498b262a8590"
  },
  {
   "cell_type": "code",
   "execution_count": 9,
   "outputs": [],
   "source": [
    "# Create sparse matrices to store the large dataset\n",
    "# Confidence matrix: Increase confidence based on game duration, minimum is 1\n",
    "\n",
    "zero_matrix = np.zeros(shape=(n_users, n_games))\n",
    "# Purchase matrix\n",
    "user_game_pref = zero_matrix.copy()\n",
    "user_game_pref[user_idx, game_idx] = 1\n",
    "\n",
    "# Save the purchase matrix\n",
    "# joblib.dump(user_game_pref, '/Users/a1234/Desktop/workspace/Steam_Recommendation_System_777_tp/Processed_Data/buy.pkl')\n",
    "\n",
    "# Confidence matrix\n",
    "user_game_interactions = zero_matrix.copy()\n",
    "user_game_interactions[user_idx, game_idx] = hours + 1\n"
   ],
   "metadata": {
    "collapsed": false,
    "ExecuteTime": {
     "end_time": "2024-04-23T23:28:07.102773Z",
     "start_time": "2024-04-23T23:28:06.344178Z"
    }
   },
   "id": "30c8507f67cacc90"
  },
  {
   "cell_type": "code",
   "execution_count": 10,
   "outputs": [
    {
     "name": "stdout",
     "output_type": "stream",
     "text": [
      "4701 players have purchased at least 10 games\n"
     ]
    }
   ],
   "source": [
    "k = 5\n",
    "# For each user, calculate the number of games they purchased\n",
    "purchase_counts = np.apply_along_axis(np.bincount, 1, user_game_pref.astype(int))\n",
    "buyers_idx = np.where(purchase_counts[:, 1] >= 2 * k)[0]  # Set of buyers who purchased more than 2*k games\n",
    "\n",
    "print('{0} players have purchased at least {1} games'.format(len(buyers_idx), 2 * k))\n",
    "\n",
    "# Save list of effective buyers\n",
    "#joblib.dump(buyers_idx, '/Users/a1234/Desktop/workspace/Steam_Recommendation_System_777_tp/Processed_Data/buyers.pkl')"
   ],
   "metadata": {
    "collapsed": false,
    "ExecuteTime": {
     "end_time": "2024-04-23T23:28:09.809044Z",
     "start_time": "2024-04-23T23:28:08.850922Z"
    }
   },
   "id": "c0a057bc42fe62c6"
  },
  {
   "cell_type": "code",
   "execution_count": 11,
   "outputs": [
    {
     "data": {
      "text/plain": "<Figure size 1000x600 with 1 Axes>",
      "image/png": "[encoded data removed]"
     },
     "metadata": {},
     "output_type": "display_data"
    },
    {
     "name": "stdout",
     "output_type": "stream",
     "text": [
      "Statistics about game ownership per user:\n",
      "-----------------------------------------\n",
      "Mean number of games owned per user: 1118.54\n",
      "Median number of games owned per user: 431.00\n",
      "Maximum number of games owned by a user: 37634\n",
      "Minimum number of games owned by a user: 1\n"
     ]
    }
   ],
   "source": [
    "# Calculate the number of games owned by each user\n",
    "ownership_counts = np.apply_along_axis(np.bincount, 1, user_game_pref.astype(int))[:, 1:]  # Exclude the count of zeros\n",
    "total_ownership = np.sum(ownership_counts, axis=1)\n",
    "max_ownership = np.max(total_ownership)\n",
    "\n",
    "# Set Seaborn style\n",
    "sns.set(style=\"whitegrid\")\n",
    "\n",
    "# Create a violin plot to visualize the distribution of game ownership\n",
    "plt.figure(figsize=(10, 6))\n",
    "sns.violinplot(total_ownership, inner=\"box\")\n",
    "plt.xlabel('Number of Games Owned')\n",
    "plt.title('Distribution of Game Ownership per User')\n",
    "plt.show()\n",
    "\n",
    "# Output statistics about game ownership\n",
    "print('Statistics about game ownership per user:')\n",
    "print('-----------------------------------------')\n",
    "print('Mean number of games owned per user: {:.2f}'.format(np.mean(total_ownership)))\n",
    "print('Median number of games owned per user: {:.2f}'.format(np.median(total_ownership)))\n",
    "print('Maximum number of games owned by a user: {}'.format(np.max(total_ownership)))\n",
    "print('Minimum number of games owned by a user: {}'.format(np.min(total_ownership)))\n"
   ],
   "metadata": {
    "collapsed": false,
    "ExecuteTime": {
     "end_time": "2024-04-23T23:28:12.445411Z",
     "start_time": "2024-04-23T23:28:11.424631Z"
    }
   },
   "id": "962a6d0fd1c6baf3"
  },
  {
   "cell_type": "code",
   "execution_count": 12,
   "outputs": [],
   "source": [
    "test_frac = 0.2  # 20% of the data for testing, 20% of the data for validation\n",
    "\n",
    "test_users_idx = np.random.choice(buyers_idx, \n",
    "                                  size=int(np.ceil(len(buyers_idx) * test_frac)), \n",
    "                                  replace=False)\n",
    "val_users_idx = test_users_idx[:int(len(test_users_idx) / 2)]\n",
    "test_users_idx = test_users_idx[int(len(test_users_idx) / 2):]"
   ],
   "metadata": {
    "collapsed": false,
    "ExecuteTime": {
     "end_time": "2024-04-23T23:28:21.749490Z",
     "start_time": "2024-04-23T23:28:21.745455Z"
    }
   },
   "id": "719aa3d692b18239"
  },
  {
   "cell_type": "code",
   "execution_count": 13,
   "outputs": [],
   "source": [
    "# Mask k games in the training set\n",
    "def data_process(dat, train, test, user_idx, k):\n",
    "    for user in user_idx:\n",
    "        purchases = np.where(dat[user, :] == 1)[0]\n",
    "        mask = np.random.choice(purchases, size=k, replace=False)\n",
    "        train[user, mask] = 0\n",
    "        test[user, mask] = dat[user, mask]\n",
    "    return train, test\n"
   ],
   "metadata": {
    "collapsed": false,
    "ExecuteTime": {
     "end_time": "2024-04-23T23:28:25.152285Z",
     "start_time": "2024-04-23T23:28:25.146637Z"
    }
   },
   "id": "622c187051eb602"
  },
  {
   "cell_type": "code",
   "execution_count": 14,
   "outputs": [],
   "source": [
    "train_matrix = user_game_pref.copy()\n",
    "test_matrix = zero_matrix.copy()\n",
    "val_matrix = zero_matrix.copy()\n",
    "\n",
    "train_matrix, val_matrix = data_process(user_game_pref, train_matrix, val_matrix, val_users_idx, k)\n",
    "train_matrix, test_matrix = data_process(user_game_pref, train_matrix, test_matrix, test_users_idx, k)"
   ],
   "metadata": {
    "collapsed": false,
    "ExecuteTime": {
     "end_time": "2024-04-23T23:28:27.853245Z",
     "start_time": "2024-04-23T23:28:27.100202Z"
    }
   },
   "id": "d12f51b547f72d4b"
  },
  {
   "cell_type": "code",
   "execution_count": 15,
   "outputs": [
    {
     "data": {
      "text/plain": "array([1., 1., 1., 1., 1.])"
     },
     "execution_count": 15,
     "metadata": {},
     "output_type": "execute_result"
    }
   ],
   "source": [
    "test_matrix[test_users_idx[0], test_matrix[test_users_idx[0], :].nonzero()[0]]"
   ],
   "metadata": {
    "collapsed": false,
    "ExecuteTime": {
     "end_time": "2024-04-23T23:28:30.569054Z",
     "start_time": "2024-04-23T23:28:30.560548Z"
    }
   },
   "id": "b1814a30840cde12"
  },
  {
   "cell_type": "code",
   "execution_count": 16,
   "outputs": [
    {
     "data": {
      "text/plain": "array([0., 0., 0., 0., 0.])"
     },
     "execution_count": 16,
     "metadata": {},
     "output_type": "execute_result"
    }
   ],
   "source": [
    "train_matrix[test_users_idx[0], test_matrix[test_users_idx[0], :].nonzero()[0]]"
   ],
   "metadata": {
    "collapsed": false,
    "ExecuteTime": {
     "end_time": "2024-04-23T23:28:33.622361Z",
     "start_time": "2024-04-23T23:28:33.608659Z"
    }
   },
   "id": "7fbdf958ea8cec26"
  },
  {
   "cell_type": "code",
   "execution_count": 17,
   "outputs": [],
   "source": [
    "tf.reset_default_graph()\n",
    "\n",
    "# Preference matrix\n",
    "pref = tf.placeholder(tf.float32, (n_users, n_games))\n",
    "# Interaction matrix for game time\n",
    "interactions = tf.placeholder(tf.float32, (n_users, n_games))\n",
    "user_idx = tf.placeholder(tf.int32, (None))\n"
   ],
   "metadata": {
    "collapsed": false,
    "ExecuteTime": {
     "end_time": "2024-04-23T23:28:35.208994Z",
     "start_time": "2024-04-23T23:28:35.197349Z"
    }
   },
   "id": "63d244569a0ebb92"
  },
  {
   "cell_type": "code",
   "execution_count": 18,
   "outputs": [],
   "source": [
    "n_features = 30  # Set the number of hidden features to 30\n",
    "\n",
    "# X matrix (User - Hidden features) represents user latent preferences\n",
    "X = tf.Variable(tf.truncated_normal([n_users, n_features], mean=0, stddev=0.05), dtype=tf.float32, name='X')\n",
    "# Y matrix (Game - Hidden features) represents game latent features\n",
    "Y = tf.Variable(tf.truncated_normal([n_games, n_features], mean=0, stddev=0.05), dtype=tf.float32, name='Y')\n",
    "\n",
    "# Initialize confidence parameter\n",
    "conf_alpha = tf.Variable(tf.random_uniform([1], 0, 1))\n"
   ],
   "metadata": {
    "collapsed": false,
    "ExecuteTime": {
     "end_time": "2024-04-23T23:28:36.862101Z",
     "start_time": "2024-04-23T23:28:36.848630Z"
    }
   },
   "id": "ef4b0d964e583fe7"
  },
  {
   "cell_type": "code",
   "execution_count": 19,
   "outputs": [],
   "source": [
    "# Initialize user bias\n",
    "user_bias = tf.Variable(tf.truncated_normal([n_users, 1], stddev=0.2))\n",
    "\n",
    "# Concatenate vectors to the user matrix\n",
    "X_plus_bias = tf.concat([X,\n",
    "                         user_bias,\n",
    "                         tf.ones((n_users, 1), dtype=tf.float32)], \n",
    "                        axis=1)\n"
   ],
   "metadata": {
    "collapsed": false,
    "ExecuteTime": {
     "end_time": "2024-04-23T23:28:39.520892Z",
     "start_time": "2024-04-23T23:28:39.511573Z"
    }
   },
   "id": "9acd12ad6da8a911"
  },
  {
   "cell_type": "code",
   "execution_count": 20,
   "outputs": [],
   "source": [
    "# Initialize game bias\n",
    "item_bias = tf.Variable(tf.truncated_normal([n_games, 1], stddev=0.2))\n",
    "\n",
    "# Concatenate vectors to the game matrix\n",
    "Y_plus_bias = tf.concat([Y,\n",
    "                         tf.ones((n_games, 1), dtype=tf.float32),\n",
    "                         item_bias],\n",
    "                        axis=1)\n"
   ],
   "metadata": {
    "collapsed": false,
    "ExecuteTime": {
     "end_time": "2024-04-23T23:28:40.972227Z",
     "start_time": "2024-04-23T23:28:40.957173Z"
    }
   },
   "id": "7a8b3e088be1b770"
  },
  {
   "cell_type": "code",
   "execution_count": 21,
   "outputs": [],
   "source": [
    "# Determine the resulting preference matrix through matrix multiplication\n",
    "pred_pref = tf.matmul(X_plus_bias, Y_plus_bias, transpose_b=True)\n",
    "\n",
    "# Construct the confidence matrix using game duration and alpha parameter\n",
    "conf = 1 + conf_alpha * interactions\n",
    "\n",
    "# Loss function\n",
    "cost = tf.reduce_sum(tf.multiply(conf, tf.square(tf.subtract(pref, pred_pref))))\n",
    "l2_sqr = tf.nn.l2_loss(X) + tf.nn.l2_loss(Y) + tf.nn.l2_loss(user_bias) + tf.nn.l2_loss(item_bias)\n",
    "lambda_c = 0.01\n",
    "loss = cost + lambda_c * l2_sqr\n"
   ],
   "metadata": {
    "collapsed": false,
    "ExecuteTime": {
     "end_time": "2024-04-23T23:28:42.493353Z",
     "start_time": "2024-04-23T23:28:42.482710Z"
    }
   },
   "id": "921ffeb4a11faa2"
  },
  {
   "cell_type": "code",
   "execution_count": 23,
   "outputs": [],
   "source": [
    "# Gradient descent algorithm optimizer\n",
    "lr = 0.05\n",
    "optimize = tf.train.AdagradOptimizer(learning_rate=lr).minimize(loss)\n"
   ],
   "metadata": {
    "collapsed": false,
    "ExecuteTime": {
     "end_time": "2024-04-23T23:28:46.675788Z",
     "start_time": "2024-04-23T23:28:46.641279Z"
    }
   },
   "id": "b1d79e9e2cf56b92"
  },
  {
   "cell_type": "code",
   "execution_count": 24,
   "outputs": [],
   "source": [
    "# Precision calculation optimization, merging base game and DLC into the same game\n",
    "def precision_dlc(recommendations, labels):\n",
    "    # Split recommended games by word\n",
    "    recommendations_split = []\n",
    "    # Split purchased games by word\n",
    "    labels_split = []\n",
    "    for label in labels:\n",
    "        labels_split.append(idx2game[label].split())\n",
    "    for game in recommendations:\n",
    "        recommendations_split.append(idx2game[game].split())\n",
    "        \n",
    "    count = 0\n",
    "    for game in recommendations_split:\n",
    "        for label in labels_split:\n",
    "            # When the overlap between recommended games and purchased games words exceeds the threshold, it is considered the same game\n",
    "            if (len(set(game) & set(label)) / min(len(game), len(label))) > 0.2:\n",
    "                count += 1\n",
    "                break\n",
    "    \n",
    "    return float(count / len(recommendations))\n"
   ],
   "metadata": {
    "collapsed": false,
    "ExecuteTime": {
     "end_time": "2024-04-23T23:28:48.278280Z",
     "start_time": "2024-04-23T23:28:48.273944Z"
    }
   },
   "id": "1098c18581480a96"
  },
  {
   "cell_type": "code",
   "execution_count": 25,
   "outputs": [],
   "source": [
    "# Select the top k from the predicted list\n",
    "def top_k_precision(pred, mat, k, user_idx):\n",
    "    precisions = []\n",
    "    for user in user_idx:\n",
    "        rec = np.argsort(-pred[user, :])\n",
    "        # Select the top k recommendations based on highest scores\n",
    "        top_k = rec[:k]\n",
    "        labels = mat[user, :].nonzero()[0]\n",
    "        # Calculate precision of recommendations against actual purchases and return\n",
    "        precision = precision_dlc(top_k, labels)\n",
    "        precisions.append(precision)\n",
    "    return np.mean(precisions)\n"
   ],
   "metadata": {
    "collapsed": false,
    "ExecuteTime": {
     "end_time": "2024-04-23T23:28:50.308470Z",
     "start_time": "2024-04-23T23:28:50.303539Z"
    }
   },
   "id": "2a680aeddfed28a9"
  },
  {
   "cell_type": "code",
   "execution_count": null,
   "outputs": [
    {
     "name": "stderr",
     "output_type": "stream",
     "text": [
      "2024-04-23 19:28:52.351798: I tensorflow/compiler/mlir/mlir_graph_optimization_pass.cc:388] MLIR V1 optimization pass is not enabled\n"
     ]
    }
   ],
   "source": [
    "iterations = 500\n",
    "# Data for plotting: loss and training set accuracy\n",
    "fig_loss = np.zeros([iterations])\n",
    "fig_train_precision = np.zeros([iterations])\n",
    "\n",
    "with tf.Session() as sess:\n",
    "    sess.run(tf.global_variables_initializer())\n",
    "    \n",
    "    for i in range(iterations):\n",
    "        sess.run(optimize, feed_dict={pref: train_matrix, \n",
    "                                       interactions: user_game_interactions})\n",
    "        if i % 10 == 0:\n",
    "            mod_loss = sess.run(loss, feed_dict={pref: train_matrix,\n",
    "                                                  interactions: user_game_interactions})\n",
    "            mod_pred = pred_pref.eval()\n",
    "            train_precision = top_k_precision(mod_pred, train_matrix, k, val_users_idx)\n",
    "            val_precision = top_k_precision(mod_pred, val_matrix, k, val_users_idx)\n",
    "            print('Progress: {}...'.format(i),\n",
    "                  'Loss: {:.2f}...'.format(mod_loss),\n",
    "                  'Training set accuracy: {:.3f}...'.format(train_precision),\n",
    "                  'Validation set accuracy: {:.3f}'.format(val_precision))\n",
    "        fig_loss[i] = sess.run(loss, feed_dict={pref: train_matrix,\n",
    "                                                interactions: user_game_interactions})\n",
    "        fig_train_precision[i] = top_k_precision(mod_pred, train_matrix, k, val_users_idx)\n",
    "    rec = pred_pref.eval()\n",
    "    test_precision = top_k_precision(rec, test_matrix, k, test_users_idx)\n",
    "    print('\\n')\n",
    "    print('Model completed, accuracy: {:.3f}'.format(test_precision))\n"
   ],
   "metadata": {
    "collapsed": false,
    "is_executing": true,
    "ExecuteTime": {
     "start_time": "2024-04-23T23:28:52.349837Z"
    }
   },
   "id": "e00fc2330854a925"
  },
  {
   "cell_type": "code",
   "execution_count": null,
   "outputs": [],
   "source": [
    "n_examples = 5\n",
    "users = np.random.choice(test_users_idx, size=n_examples, replace=False)\n",
    "rec_games = np.argsort(-rec)\n",
    "\n",
    "for user in users:\n",
    "    purchase_history = np.where(train_matrix[user, :] != 0)[0]\n",
    "    recommendations = rec_games[user, :]\n",
    "    new_recommendations = recommendations[~np.in1d(recommendations, purchase_history)][:k]\n",
    "    \n",
    "    print('Recommended games for user with ID {0}:'.format(idx2user[user]))\n",
    "    print(', '.join([idx2game[game] for game in new_recommendations]))\n",
    "    print('Games actually purchased by the user:')\n",
    "    print(', '.join([idx2game[game] for game in np.where(test_matrix[user, :] != 0)[0]]))\n",
    "    print('Accuracy: {:.2f}%'.format(100 * precision_dlc(new_recommendations, np.where(test_matrix[user, :] != 0)[0])))\n",
    "    print('\\n')\n"
   ],
   "metadata": {
    "collapsed": false
   },
   "id": "df1360d23291e539"
  },
  {
   "cell_type": "code",
   "execution_count": 56,
   "outputs": [],
   "source": [
    "# Save the trained rating matrix\n",
    "# with tf.Session() as sess:\n",
    "#     sess.run(tf.global_variables_initializer())\n",
    "#     joblib.dump(pred_pref.eval(), '/Users/a1234/Desktop/workspace/Steam_Recommendation_System_777_tp/Processed_Data/rec.pkl')\n"
   ],
   "metadata": {
    "collapsed": false,
    "ExecuteTime": {
     "end_time": "2024-04-21T15:15:38.871676Z",
     "start_time": "2024-04-21T15:15:38.558430Z"
    }
   },
   "id": "2ef3ba8c1d19ab2e"
  },
  {
   "cell_type": "code",
   "execution_count": 59,
   "outputs": [
    {
     "data": {
      "text/plain": "<Figure size 640x480 with 2 Axes>",
      "image/png": "[encoded data removed]"
     },
     "metadata": {},
     "output_type": "display_data"
    }
   ],
   "source": [
    "\n",
    "plt.rcParams['font.sans-serif'] = ['Arial']\n",
    "\n",
    "fig, ax1 = plt.subplots()\n",
    "ax2 = ax1.twinx()\n",
    "lns1 = ax1.plot(np.arange(iterations), fig_loss, label='Loss')\n",
    "lns2 = ax2.plot(np.arange(iterations), fig_train_precision, 'r', label='Train Accuracy')\n",
    "ax1.set_xlabel('Training Iterations')\n",
    "ax1.set_ylabel('Training Loss')\n",
    "ax2.set_ylabel('Training Accuracy')\n",
    "# Merge legends\n",
    "lns = lns1 + lns2\n",
    "labels = ['Loss', 'Accuracy']\n",
    "plt.legend(lns, labels, loc=7)\n",
    "plt.show()\n"
   ],
   "metadata": {
    "collapsed": false,
    "ExecuteTime": {
     "end_time": "2024-04-21T15:33:36.702594Z",
     "start_time": "2024-04-21T15:33:36.617579Z"
    }
   },
   "id": "3218a8d103783786"
  }
 ],
 "metadata": {
  "kernelspec": {
   "display_name": "Python 3",
   "language": "python",
   "name": "python3"
  },
  "language_info": {
   "codemirror_mode": {
    "name": "ipython",
    "version": 2
   },
   "file_extension": ".py",
   "mimetype": "text/x-python",
   "name": "python",
   "nbconvert_exporter": "python",
   "pygments_lexer": "ipython2",
   "version": "2.7.6"
  }
 },
 "nbformat": 4,
 "nbformat_minor": 5
}
